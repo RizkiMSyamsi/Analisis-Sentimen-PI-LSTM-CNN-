{
 "cells": [
  {
   "cell_type": "markdown",
   "id": "c5ddcdba",
   "metadata": {},
   "source": [
    "Install Library"
   ]
  },
  {
   "cell_type": "code",
   "execution_count": 1,
   "id": "2e6f7483",
   "metadata": {},
   "outputs": [
    {
     "name": "stdout",
     "output_type": "stream",
     "text": [
      "Collecting google-api-python-client\n",
      "  Downloading google_api_python_client-2.167.0-py2.py3-none-any.whl.metadata (6.7 kB)\n",
      "Requirement already satisfied: pandas in c:\\users\\rizki\\anaconda3\\lib\\site-packages (2.2.2)\n",
      "Collecting httplib2<1.0.0,>=0.19.0 (from google-api-python-client)\n",
      "  Downloading httplib2-0.22.0-py3-none-any.whl.metadata (2.6 kB)\n",
      "Collecting google-auth!=2.24.0,!=2.25.0,<3.0.0,>=1.32.0 (from google-api-python-client)\n",
      "  Downloading google_auth-2.39.0-py2.py3-none-any.whl.metadata (6.2 kB)\n",
      "Collecting google-auth-httplib2<1.0.0,>=0.2.0 (from google-api-python-client)\n",
      "  Downloading google_auth_httplib2-0.2.0-py2.py3-none-any.whl.metadata (2.2 kB)\n",
      "Collecting google-api-core!=2.0.*,!=2.1.*,!=2.2.*,!=2.3.0,<3.0.0,>=1.31.5 (from google-api-python-client)\n",
      "  Downloading google_api_core-2.24.2-py3-none-any.whl.metadata (3.0 kB)\n",
      "Collecting uritemplate<5,>=3.0.1 (from google-api-python-client)\n",
      "  Downloading uritemplate-4.1.1-py2.py3-none-any.whl.metadata (2.9 kB)\n",
      "Requirement already satisfied: numpy>=1.26.0 in c:\\users\\rizki\\anaconda3\\lib\\site-packages (from pandas) (1.26.4)\n",
      "Requirement already satisfied: python-dateutil>=2.8.2 in c:\\users\\rizki\\anaconda3\\lib\\site-packages (from pandas) (2.9.0.post0)\n",
      "Requirement already satisfied: pytz>=2020.1 in c:\\users\\rizki\\anaconda3\\lib\\site-packages (from pandas) (2024.1)\n",
      "Requirement already satisfied: tzdata>=2022.7 in c:\\users\\rizki\\anaconda3\\lib\\site-packages (from pandas) (2023.3)\n",
      "Collecting googleapis-common-protos<2.0.0,>=1.56.2 (from google-api-core!=2.0.*,!=2.1.*,!=2.2.*,!=2.3.0,<3.0.0,>=1.31.5->google-api-python-client)\n",
      "  Downloading googleapis_common_protos-1.70.0-py3-none-any.whl.metadata (9.3 kB)\n",
      "Requirement already satisfied: protobuf!=3.20.0,!=3.20.1,!=4.21.0,!=4.21.1,!=4.21.2,!=4.21.3,!=4.21.4,!=4.21.5,<7.0.0,>=3.19.5 in c:\\users\\rizki\\anaconda3\\lib\\site-packages (from google-api-core!=2.0.*,!=2.1.*,!=2.2.*,!=2.3.0,<3.0.0,>=1.31.5->google-api-python-client) (4.25.3)\n",
      "Collecting proto-plus<2.0.0,>=1.22.3 (from google-api-core!=2.0.*,!=2.1.*,!=2.2.*,!=2.3.0,<3.0.0,>=1.31.5->google-api-python-client)\n",
      "  Downloading proto_plus-1.26.1-py3-none-any.whl.metadata (2.2 kB)\n",
      "Requirement already satisfied: requests<3.0.0,>=2.18.0 in c:\\users\\rizki\\anaconda3\\lib\\site-packages (from google-api-core!=2.0.*,!=2.1.*,!=2.2.*,!=2.3.0,<3.0.0,>=1.31.5->google-api-python-client) (2.32.3)\n",
      "Requirement already satisfied: cachetools<6.0,>=2.0.0 in c:\\users\\rizki\\anaconda3\\lib\\site-packages (from google-auth!=2.24.0,!=2.25.0,<3.0.0,>=1.32.0->google-api-python-client) (5.3.3)\n",
      "Requirement already satisfied: pyasn1-modules>=0.2.1 in c:\\users\\rizki\\anaconda3\\lib\\site-packages (from google-auth!=2.24.0,!=2.25.0,<3.0.0,>=1.32.0->google-api-python-client) (0.2.8)\n",
      "Collecting rsa<5,>=3.1.4 (from google-auth!=2.24.0,!=2.25.0,<3.0.0,>=1.32.0->google-api-python-client)\n",
      "  Downloading rsa-4.9-py3-none-any.whl.metadata (4.2 kB)\n",
      "Requirement already satisfied: pyparsing!=3.0.0,!=3.0.1,!=3.0.2,!=3.0.3,<4,>=2.4.2 in c:\\users\\rizki\\anaconda3\\lib\\site-packages (from httplib2<1.0.0,>=0.19.0->google-api-python-client) (3.1.2)\n",
      "Requirement already satisfied: six>=1.5 in c:\\users\\rizki\\anaconda3\\lib\\site-packages (from python-dateutil>=2.8.2->pandas) (1.16.0)\n",
      "Requirement already satisfied: pyasn1<0.5.0,>=0.4.6 in c:\\users\\rizki\\anaconda3\\lib\\site-packages (from pyasn1-modules>=0.2.1->google-auth!=2.24.0,!=2.25.0,<3.0.0,>=1.32.0->google-api-python-client) (0.4.8)\n",
      "Requirement already satisfied: charset-normalizer<4,>=2 in c:\\users\\rizki\\anaconda3\\lib\\site-packages (from requests<3.0.0,>=2.18.0->google-api-core!=2.0.*,!=2.1.*,!=2.2.*,!=2.3.0,<3.0.0,>=1.31.5->google-api-python-client) (3.3.2)\n",
      "Requirement already satisfied: idna<4,>=2.5 in c:\\users\\rizki\\anaconda3\\lib\\site-packages (from requests<3.0.0,>=2.18.0->google-api-core!=2.0.*,!=2.1.*,!=2.2.*,!=2.3.0,<3.0.0,>=1.31.5->google-api-python-client) (3.7)\n",
      "Requirement already satisfied: urllib3<3,>=1.21.1 in c:\\users\\rizki\\anaconda3\\lib\\site-packages (from requests<3.0.0,>=2.18.0->google-api-core!=2.0.*,!=2.1.*,!=2.2.*,!=2.3.0,<3.0.0,>=1.31.5->google-api-python-client) (2.2.3)\n",
      "Requirement already satisfied: certifi>=2017.4.17 in c:\\users\\rizki\\anaconda3\\lib\\site-packages (from requests<3.0.0,>=2.18.0->google-api-core!=2.0.*,!=2.1.*,!=2.2.*,!=2.3.0,<3.0.0,>=1.31.5->google-api-python-client) (2025.1.31)\n",
      "Downloading google_api_python_client-2.167.0-py2.py3-none-any.whl (13.2 MB)\n",
      "   ---------------------------------------- 0.0/13.2 MB ? eta -:--:--\n",
      "   --- ------------------------------------ 1.0/13.2 MB 5.6 MB/s eta 0:00:03\n",
      "   ----- ---------------------------------- 1.8/13.2 MB 5.0 MB/s eta 0:00:03\n",
      "   ------- -------------------------------- 2.6/13.2 MB 4.3 MB/s eta 0:00:03\n",
      "   ---------- ----------------------------- 3.4/13.2 MB 4.3 MB/s eta 0:00:03\n",
      "   ------------- -------------------------- 4.5/13.2 MB 4.3 MB/s eta 0:00:03\n",
      "   ---------------- ----------------------- 5.5/13.2 MB 4.4 MB/s eta 0:00:02\n",
      "   ------------------- -------------------- 6.3/13.2 MB 4.3 MB/s eta 0:00:02\n",
      "   --------------------- ------------------ 7.1/13.2 MB 4.3 MB/s eta 0:00:02\n",
      "   ----------------------- ---------------- 7.9/13.2 MB 4.3 MB/s eta 0:00:02\n",
      "   -------------------------- ------------- 8.9/13.2 MB 4.3 MB/s eta 0:00:02\n",
      "   ------------------------------ --------- 10.0/13.2 MB 4.3 MB/s eta 0:00:01\n",
      "   -------------------------------- ------- 10.7/13.2 MB 4.2 MB/s eta 0:00:01\n",
      "   ---------------------------------- ----- 11.5/13.2 MB 4.2 MB/s eta 0:00:01\n",
      "   -------------------------------------- - 12.6/13.2 MB 4.3 MB/s eta 0:00:01\n",
      "   ---------------------------------------- 13.2/13.2 MB 4.2 MB/s eta 0:00:00\n",
      "Downloading google_api_core-2.24.2-py3-none-any.whl (160 kB)\n",
      "Downloading google_auth-2.39.0-py2.py3-none-any.whl (212 kB)\n",
      "Downloading google_auth_httplib2-0.2.0-py2.py3-none-any.whl (9.3 kB)\n",
      "Downloading httplib2-0.22.0-py3-none-any.whl (96 kB)\n",
      "Downloading uritemplate-4.1.1-py2.py3-none-any.whl (10 kB)\n",
      "Downloading googleapis_common_protos-1.70.0-py3-none-any.whl (294 kB)\n",
      "Downloading proto_plus-1.26.1-py3-none-any.whl (50 kB)\n",
      "Using cached rsa-4.9-py3-none-any.whl (34 kB)\n",
      "Installing collected packages: uritemplate, rsa, proto-plus, httplib2, googleapis-common-protos, google-auth, google-auth-httplib2, google-api-core, google-api-python-client\n",
      "Successfully installed google-api-core-2.24.2 google-api-python-client-2.167.0 google-auth-2.39.0 google-auth-httplib2-0.2.0 googleapis-common-protos-1.70.0 httplib2-0.22.0 proto-plus-1.26.1 rsa-4.9 uritemplate-4.1.1\n",
      "Note: you may need to restart the kernel to use updated packages.\n"
     ]
    }
   ],
   "source": [
    "pip install google-api-python-client pandas\n"
   ]
  },
  {
   "cell_type": "code",
   "execution_count": 4,
   "id": "59b7a646",
   "metadata": {},
   "outputs": [
    {
     "name": "stdout",
     "output_type": "stream",
     "text": [
      "Collecting langdetect\n",
      "  Downloading langdetect-1.0.9.tar.gz (981 kB)\n",
      "     ---------------------------------------- 0.0/981.5 kB ? eta -:--:--\n",
      "     -------------------- ----------------- 524.3/981.5 kB 4.2 MB/s eta 0:00:01\n",
      "     -------------------------------------- 981.5/981.5 kB 3.8 MB/s eta 0:00:00\n",
      "  Preparing metadata (setup.py): started\n",
      "  Preparing metadata (setup.py): finished with status 'done'\n",
      "Requirement already satisfied: six in c:\\users\\rizki\\anaconda3\\lib\\site-packages (from langdetect) (1.16.0)\n",
      "Building wheels for collected packages: langdetect\n",
      "  Building wheel for langdetect (setup.py): started\n",
      "  Building wheel for langdetect (setup.py): finished with status 'done'\n",
      "  Created wheel for langdetect: filename=langdetect-1.0.9-py3-none-any.whl size=993251 sha256=be3be86644dafc2ff431aaee4c2457deba5dc14ac228cd5c0dbd800c1c43e39d\n",
      "  Stored in directory: c:\\users\\rizki\\appdata\\local\\pip\\cache\\wheels\\c1\\67\\88\\e844b5b022812e15a52e4eaa38a1e709e99f06f6639d7e3ba7\n",
      "Successfully built langdetect\n",
      "Installing collected packages: langdetect\n",
      "Successfully installed langdetect-1.0.9\n",
      "Note: you may need to restart the kernel to use updated packages.\n"
     ]
    }
   ],
   "source": [
    "pip install langdetect\n"
   ]
  },
  {
   "cell_type": "markdown",
   "id": "2f92666d",
   "metadata": {},
   "source": [
    " Scraping Komentar YouTube via API"
   ]
  },
  {
   "cell_type": "code",
   "execution_count": null,
   "id": "6c0164ff",
   "metadata": {},
   "outputs": [
    {
     "name": "stdout",
     "output_type": "stream",
     "text": [
      "[✓] Disimpan ke 'official_trailer_comments1.csv.csv' dengan 3346 komentar berbahasa Inggris (hanya teks)\n"
     ]
    }
   ],
   "source": [
    "from googleapiclient.discovery import build\n",
    "from langdetect import detect\n",
    "import pandas as pd\n",
    "import time\n",
    "from urllib.parse import urlparse, parse_qs\n",
    "\n",
    "def get_all_comment_texts(video_id, api_key, max_comments):\n",
    "    youtube = build('youtube', 'v3', developerKey=api_key)\n",
    "    comments = []\n",
    "    next_page_token = None\n",
    "\n",
    "    while True:\n",
    "        if len(comments) >= max_comments:\n",
    "            break\n",
    "\n",
    "        try:\n",
    "            request = youtube.commentThreads().list(\n",
    "                part='snippet',\n",
    "                videoId=video_id,\n",
    "                pageToken=next_page_token,\n",
    "                maxResults=100,\n",
    "                textFormat='plainText'\n",
    "            )\n",
    "            response = request.execute()\n",
    "        except Exception as e:\n",
    "            print(f\"[!] Error saat memuat komentar: {e}\")\n",
    "            break\n",
    "\n",
    "        for item in response['items']:\n",
    "            comment = item['snippet']['topLevelComment']['snippet']\n",
    "            text = comment.get('textDisplay', '')\n",
    "\n",
    "            # Deteksi bahasa\n",
    "            try:\n",
    "                if detect(text) != 'en':\n",
    "                    continue  # Skip jika bukan bahasa Inggris\n",
    "            except:\n",
    "                continue  # Skip komentar yang gagal dideteksi\n",
    "\n",
    "            comments.append(text)\n",
    "\n",
    "            if len(comments) >= max_comments:\n",
    "                break\n",
    "\n",
    "        next_page_token = response.get('nextPageToken')\n",
    "        if not next_page_token:\n",
    "            break\n",
    "\n",
    "        time.sleep(0.3)  # Hindari rate limit\n",
    "\n",
    "    return pd.DataFrame(comments, columns=['text'])\n",
    "\n",
    "def extract_video_id(url):\n",
    "    query = urlparse(url)\n",
    "    params = parse_qs(query.query)\n",
    "    return params[\"v\"][0] if \"v\" in params else None\n",
    "\n",
    "def save_only_text_comments(video_url, api_key, output_csv, max_comments):\n",
    "    video_id = extract_video_id(video_url)\n",
    "    df = get_all_comment_texts(video_id, api_key, max_comments=max_comments)\n",
    "    df.to_csv(output_csv, index=False)\n",
    "    print(f\"[✓] Disimpan ke '{output_csv}' dengan {len(df)} komentar berbahasa Inggris (hanya teks)\")\n",
    "\n",
    "# ==== Masukkan API Key dan URL Video ====\n",
    "API_KEY = Isi API ANDA'\n",
    "official_trailer_url = 'Isi Link YT'\n",
    "\n",
    "# Jalankan\n",
    "save_only_text_comments(official_trailer_url, API_KEY, 'official_trailer_comments.csv', 40000)\n"
   ]
  }
 ],
 "metadata": {
  "kernelspec": {
   "display_name": "base",
   "language": "python",
   "name": "python3"
  },
  "language_info": {
   "codemirror_mode": {
    "name": "ipython",
    "version": 3
   },
   "file_extension": ".py",
   "mimetype": "text/x-python",
   "name": "python",
   "nbconvert_exporter": "python",
   "pygments_lexer": "ipython3",
   "version": "3.12.7"
  }
 },
 "nbformat": 4,
 "nbformat_minor": 5
}
